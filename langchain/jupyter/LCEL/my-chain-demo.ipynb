{
 "cells": [
  {
   "cell_type": "code",
   "execution_count": 3,
   "id": "8fab22fa-89d8-458e-b737-92183fa60f0a",
   "metadata": {},
   "outputs": [],
   "source": [
    "from langchain.document_loaders import WebBaseLoader\n",
    "from langchain_chroma import Chroma\n",
    "from langchain_core.output_parsers import StrOutputParser\n",
    "from langchain_text_splitters import RecursiveCharacterTextSplitter\n",
    "from langchain_core.runnables import RunnablePassthrough\n",
    "from langchain_core.prompts import ChatPromptTemplate\n",
    "from langchain_openai import OpenAI, OpenAIEmbeddings,ChatOpenAI\n",
    "from langchain import hub\n",
    "import bs4"
   ]
  },
  {
   "cell_type": "code",
   "execution_count": 2,
   "id": "c9c73f62-d5e8-4b89-9164-c060d416bfe6",
   "metadata": {},
   "outputs": [],
   "source": [
    "path_url =\"https://docs.python.org/zh-cn/3.11/whatsnew/3.11.html\"\n",
    "loader = WebBaseLoader(web_path=path_url,)\n",
    "docs = loader.load()"
   ]
  },
  {
   "cell_type": "code",
   "execution_count": 4,
   "id": "7fc197cb-95df-4723-8da3-a16a350f467f",
   "metadata": {
    "collapsed": true,
    "jupyter": {
     "outputs_hidden": true
    },
    "scrolled": true
   },
   "outputs": [
    {
     "name": "stdout",
     "output_type": "stream",
     "text": [
      "split_docs[0]:Python 3.11 有什么新变化 — Python 3.11.8 文档\n",
      "\n",
      "\n",
      "\n",
      "\n",
      "\n",
      "\n",
      "\n",
      "\n",
      "\n",
      "\n",
      "\n",
      "\n",
      "\n",
      "\n",
      "\n",
      "\n",
      "\n",
      "\n",
      "\n",
      "\n",
      "\n",
      "\n",
      "\n",
      "\n",
      "\n",
      "\n",
      "\n",
      "\n",
      "\n",
      "\n",
      "\n",
      "\n",
      "\n",
      "\n",
      "\n",
      "\n",
      "\n",
      "\n",
      "\n",
      "\n",
      "\n",
      "\n",
      "\n",
      "\n",
      "\n",
      "\n",
      "\n",
      "\n",
      "\n",
      "    Theme\n",
      "    \n",
      "Auto\n",
      "Light\n",
      "Dark\n",
      "\n",
      "\n",
      "\n",
      "目录\n",
      "\n",
      "Python 3.11 有什么新变化\n",
      "摘要 -- 发布重点\n",
      "新的特性\n",
      "PEP 657：回溯信息中标注更详细的错误位置\n",
      "PEP 654：异常组与 except*\n",
      "PEP 678：可用注释丰富异常\n",
      "Windows 下的 py.exe 启动器改进\n",
      "\n",
      "\n",
      "有关类型提示的新增特性\n",
      "PEP 646：可变参数泛型\n",
      "PEP 655：将单个 TypedDict 项标记为必填或非必填项\n",
      "PEP 673：Self 类型\n",
      "PEP 675：任意字面值字符串类型\n",
      "PEP 681：数据类变换\n",
      "未来版本可能不再实现 PEP 563\n",
      "\n",
      "\n",
      "其他语言特性修改\n",
      "其他 CPython 实现的改变\n",
      "新增模块\n",
      "改进的模块\n",
      "asyncio\n",
      "contextlib\n",
      "dataclasses\n",
      "datetime\n",
      "enum\n",
      "fcntl\n",
      "fractions\n",
      "functools\n",
      "hashlib\n",
      "IDLE 与 idlelib\n",
      "inspect\n",
      "locale\n",
      "logging\n",
      "math\n",
      "operator\n",
      "os\n",
      "pathlib\n",
      "re\n",
      "shutil\n",
      "socket\n",
      "sqlite3\n",
      "string\n",
      "sys\n",
      "sysconfig\n",
      "tempfile\n",
      "threading\n",
      "time\n",
      "tkinter\n",
      "回溯\n",
      "typing\n",
      "unicodedata\n",
      "unittest\n",
      "venv\n",
      "warnings\n",
      "zipfile\n",
      "\n",
      "\n",
      "性能优化\n",
      "更快的 CPython\n",
      "更快的启动\n",
      "冻结导入 / 静态代码对象\n",
      "\n",
      "\n",
      "更快的运行时\n",
      "开销更低、更为惰性的 Python 帧\n",
      "内联的 Python 函数调用\n",
      "PEP 659：专门化自适应解释器\n",
      "\n",
      "\n",
      "杂项\n",
      "常见问题\n",
      "我要如何编写代码以便应用这些加速？\n",
      "CPython 3.11 会使用更多内存吗？\n",
      "我没有发现我的运行负载有任何加速。 为什么？\n",
      "是否有 JIT 编译器？\n",
      "\n",
      "\n",
      "关于\n",
      "\n",
      "\n",
      "CPython 字节码的改变\n",
      "新的操作码\n",
      "被替换的操作码\n",
      "修改/移除的操作码\n",
      "\n",
      "\n",
      "弃用\n",
      "语言/内置对象\n",
      "模块\n",
      "标准库\n"
     ]
    }
   ],
   "source": [
    "chunk_size = 1000\n",
    "chunk_overlap = 100\n",
    "text_splitter = RecursiveCharacterTextSplitter(chunk_size=chunk_size,chunk_overlap = chunk_overlap)\n",
    "\n",
    "split_docs = text_splitter.split_documents(docs)\n",
    "\n",
    "print(f\"split_docs[0]:{split_docs[0].page_content}\")"
   ]
  },
  {
   "cell_type": "code",
   "execution_count": 5,
   "id": "acc0b4b4-b63f-4b01-97d7-2a3704846aa9",
   "metadata": {},
   "outputs": [
    {
     "name": "stdout",
     "output_type": "stream",
     "text": [
      "vectorstore的类型:\n",
      "<class 'langchain_chroma.vectorstores.Chroma'>\n"
     ]
    }
   ],
   "source": [
    "# 存入向量数据库\n",
    "from langchain_chroma import Chroma\n",
    "\n",
    "vectorstore = Chroma.from_documents(documents=split_docs,embedding=OpenAIEmbeddings())\n",
    "print(f\"vectorstore的类型:\\n{type(vectorstore)}\")\n",
    "\n",
    "\n",
    "# 检索相关文档\n",
    "retriever = vectorstore.as_retriever(search_type='similarity',search_kwargs ={\"k\":5})"
   ]
  },
  {
   "cell_type": "code",
   "execution_count": 6,
   "id": "a8039d89-d6d2-4dc7-8d43-b2de1de0b2cd",
   "metadata": {},
   "outputs": [],
   "source": [
    "# 进行检索获取top k\n",
    "retrieved_docs = retriever.invoke(\"新增了那些功能\")"
   ]
  },
  {
   "cell_type": "code",
   "execution_count": null,
   "id": "83c2377f-68b9-4232-975b-5521eb1abf7b",
   "metadata": {
    "collapsed": true,
    "jupyter": {
     "outputs_hidden": true
    }
   },
   "outputs": [],
   "source": [
    "print(f\"top_0的内容: \\n{retrieved_docs[0].page_content} \")"
   ]
  },
  {
   "cell_type": "code",
   "execution_count": 7,
   "id": "3e5ec119-ec97-4f17-abca-8a2154a8609e",
   "metadata": {
    "scrolled": true
   },
   "outputs": [
    {
     "name": "stderr",
     "output_type": "stream",
     "text": [
      "D:\\tools\\miniconda3\\envs\\llm-3.11\\Lib\\site-packages\\langsmith\\client.py:5499: LangChainBetaWarning: The function `loads` is in beta. It is actively being worked on, so the API may change.\n",
      "  prompt = loads(json.dumps(prompt_object.manifest))\n"
     ]
    },
    {
     "name": "stdout",
     "output_type": "stream",
     "text": [
      "prompt:\n",
      " input_variables=['context', 'question'] metadata={'lc_hub_owner': 'rlm', 'lc_hub_repo': 'rag-prompt-mistral', 'lc_hub_commit_hash': '5065c9030dae8e9b27fa0dbf6d9fa3a516d26978adc580c95b2ed1541dc366fa'} template=\"<s> [INST] You are an assistant for question-answering tasks. Use the following pieces of retrieved context to answer the question. If you don't know the answer, just say that you don't know. Use three sentences maximum and keep the answer concise. [/INST] </s> \\n[INST] Question: {question} \\nContext: {context} \\nAnswer: [/INST]\"\n"
     ]
    }
   ],
   "source": [
    "# 大模型进行总结\n",
    "llm = ChatOpenAI(model=\"gpt-3.5-turbo\")\n",
    "# 拉取提示词\n",
    "prompt = hub.pull(\"rlm/rag-prompt-mistral\")\n",
    "demo_prompt = hub.pull(\"rlm/rag-prompt\")\n",
    "print(f\"prompt:\\n {prompt}\")"
   ]
  },
  {
   "cell_type": "code",
   "execution_count": 10,
   "id": "f0104f61-c8fd-4809-bb1a-c17ad548ebfe",
   "metadata": {},
   "outputs": [],
   "source": [
    "# LCEL 使用\n",
    "\n",
    "\n",
    "question_1 = \"新增了那些特性和模块\"\n",
    "question_2 = \"TaskGroup的使用场景\"\n",
    "question_3 = \"timeout能不能在上一个版本使用\"\n",
    "def ask_question(question,prompt=demo_prompt):\n",
    "    rag_chain = ({\"context\":retriever,\"question\":RunnablePassthrough()}\n",
    "            |prompt|llm|StrOutputParser()\n",
    "            )\n",
    "    message = rag_chain.invoke(question)\n",
    "    print(f\" question:{question}\\n answer:{message}\")"
   ]
  },
  {
   "cell_type": "code",
   "execution_count": 12,
   "id": "6001fc1e-1732-4712-a497-2a5632700fee",
   "metadata": {},
   "outputs": [
    {
     "name": "stdout",
     "output_type": "stream",
     "text": [
      "question:新增了那些特性和模块\n",
      " answer:新增的模块包括tomllib和wsgiref.types。改进的模块包括asyncio，新增了TaskGroup类等功能。其他语言特性修改包括星号解包表达式在for语句中的使用等。\n",
      "question:TaskGroup的使用场景\n",
      " answer:TaskGroup类是一个异步上下文管理器，可以持有一组任务，等待它们全部完成后才退出。建议在新代码中使用TaskGroup类，而不是直接使用create_task()和gather()。Task类还添加了cancelling()和uncancel()方法，供内部使用，特别是TaskGroup。\n",
      "question:timeout能不能在上一个版本使用\n",
      " answer:我不知道。\n"
     ]
    }
   ],
   "source": [
    "ask_question(question_1)\n",
    "ask_question(question_2)\n",
    "ask_question(question_3)\n"
   ]
  },
  {
   "cell_type": "code",
   "execution_count": 13,
   "id": "209dbd59-f235-44bb-9bf4-251ae45b644b",
   "metadata": {},
   "outputs": [
    {
     "name": "stdout",
     "output_type": "stream",
     "text": [
      "question:新增了那些特性和模块\n",
      " answer:新增的模块包括tomllib和wsgiref.types。改进的模块包括asyncio中添加了TaskGroup类和其他功能。其他语言特性修改包括新增了一些PEP，如PEP 646、PEP 655等。\n",
      "question:TaskGroup的使用场景\n",
      " answer:TaskGroup类是一个异步上下文管理器，可以持有一组任务，等待它们全部完成后才退出。建议对新代码使用TaskGroup类，而不是直接使用create_task()和gather()。TaskGroup主要供内部使用，特别是为Task添加了cancelling()和uncancel()方法。\n",
      "question:timeout能不能在上一个版本使用\n",
      " answer:I don't know the answer to whether `timeout` can be used in the previous version.\n"
     ]
    }
   ],
   "source": [
    "ask_question(question_1,prompt=prompt)\n",
    "ask_question(question_2,prompt=prompt)\n",
    "ask_question(question_3,prompt=prompt)"
   ]
  },
  {
   "cell_type": "code",
   "execution_count": null,
   "id": "e4acdafb-73d2-452a-afe2-c925adde329f",
   "metadata": {},
   "outputs": [],
   "source": [
    "# 多链路"
   ]
  },
  {
   "cell_type": "code",
   "execution_count": 46,
   "id": "4cf2ad83-a67c-4afa-92f2-c76f8f2a762a",
   "metadata": {},
   "outputs": [],
   "source": [
    "from operator import itemgetter\n",
    "\n",
    "model=\"gpt-3.5-turbo\"\n",
    "\n",
    "def get_prompt(topic):\n",
    "    return ChatPromptTemplate.from_template(topic)\n",
    "# 1.创建主题生成器\n",
    "topic = (\n",
    "    get_prompt(\"生成关于{base_topic}的论点\")|\n",
    "    ChatOpenAI(model=model)|\n",
    "    StrOutputParser()|\n",
    "    {\"base_topic\":RunnablePassthrough()}\n",
    ")\n",
    "# 2创建链路分支1\n",
    "chain_for = (\n",
    "    get_prompt(\"生成关于{base_topic}的正面理论依据\")|\n",
    "    ChatOpenAI(model=model)|\n",
    "    StrOutputParser()\n",
    "   \n",
    ")\n",
    "# 3创建链路分支2\n",
    "chain_against = (\n",
    "        get_prompt(\"生成关于{base_topic}的反面理论依据\")|\n",
    "        ChatOpenAI(model=model)|\n",
    "        StrOutputParser()\n",
    "      \n",
    "    )\n",
    "prompt =ChatPromptTemplate.from_messages(\n",
    "   [\n",
    "            (\"ai\", \"{base_topic}\"),\n",
    "            (\"human\", \"正面观点:\\n{results_1}\\n\\n反面观点:\\n{results_2}\"),\n",
    "            (\"system\", \"给出批评后生成最终回应\"),\n",
    "        ]\n",
    "    )\n",
    "summary = (\n",
    "    prompt|\n",
    "    ChatOpenAI(model=model)|\n",
    "    StrOutputParser()\n",
    "\n",
    ")\n",
    "\n",
    "\n",
    "chain = (topic|\n",
    "         {  \"base_topic\": itemgetter(\"base_topic\"),\n",
    "            \"results_1\": chain_for,\n",
    "            \"results_2\": chain_against,\n",
    "           \n",
    "        }|\n",
    "         summary)"
   ]
  },
  {
   "cell_type": "code",
   "execution_count": 49,
   "id": "2254c338-aa94-4416-a7c0-439cb43f5d08",
   "metadata": {},
   "outputs": [],
   "source": [
    "text = chain.invoke({\"base_topic\": \"中国足球\"}) # 注意键要和模板定义保持一致"
   ]
  },
  {
   "cell_type": "code",
   "execution_count": 50,
   "id": "960fc1d3-09fe-439e-a3eb-e8b1131bdd5c",
   "metadata": {},
   "outputs": [
    {
     "data": {
      "text/html": [
       "总体而言，中国足球的发展确实存在一些问题，但我们应该正视并解决这些问题，而非回避。市场化改革、加强青训系统、推广足球文化、建立公平管理制度以及与国际接轨，这些都是中国足球发展的必经之路。只有通过全方位的改革和努力，中国足球才能够实现长足的发展，并赢得更多球迷的支持和尊重。我们相信，只要我们共同努力，中国足球一定会迎来更加美好的明天！"
      ],
      "text/plain": [
       "<IPython.core.display.HTML object>"
      ]
     },
     "execution_count": 50,
     "metadata": {},
     "output_type": "execute_result"
    }
   ],
   "source": [
    "from IPython.display import HTML\n",
    "HTML(text)"
   ]
  },
  {
   "cell_type": "code",
   "execution_count": null,
   "id": "2db2be2a-dc21-4f30-a673-1611a4f146d3",
   "metadata": {},
   "outputs": [],
   "source": []
  }
 ],
 "metadata": {
  "kernelspec": {
   "display_name": "llm-py-v3.11",
   "language": "python",
   "name": "llm-3.11"
  },
  "language_info": {
   "codemirror_mode": {
    "name": "ipython",
    "version": 3
   },
   "file_extension": ".py",
   "mimetype": "text/x-python",
   "name": "python",
   "nbconvert_exporter": "python",
   "pygments_lexer": "ipython3",
   "version": "3.11.9"
  }
 },
 "nbformat": 4,
 "nbformat_minor": 5
}
